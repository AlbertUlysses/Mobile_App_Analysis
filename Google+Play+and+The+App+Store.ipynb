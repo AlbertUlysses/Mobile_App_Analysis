{
 "cells": [
  {
   "cell_type": "markdown",
   "metadata": {
    "collapsed": true
   },
   "source": [
    "## Google Play and The App Store\n"
   ]
  },
  {
   "cell_type": "markdown",
   "metadata": {},
   "source": [
    "#### Intro:\n",
    "We are going to do a data analysis that explores Google Play and The App Store. Through our analysis we hope to learn what types of free apps users typically download. With this information we can suggest the direction that maximizes in-app ad revenue."
   ]
  },
  {
   "cell_type": "code",
   "execution_count": 1,
   "metadata": {
    "collapsed": false
   },
   "outputs": [],
   "source": [
    "import pandas as pd\n",
    "from csv import reader\n",
    "\n",
    "def explore_data(dataset, start, end, rows_and_columns=False, header=False):\n",
    "    \"\"\"Prints a slice of a dataset.\"\"\"\n",
    "    \n",
    "    dataset_slice = dataset[start:end]    \n",
    "    for row in dataset_slice:\n",
    "        print(row)\n",
    "        print('\\n') # adds a new (empty) line after each row\n",
    "\n",
    "    if rows_and_columns:\n",
    "        if header:\n",
    "            print('Number of rows:', len(dataset)-1)\n",
    "            print('Number of columns:', len(dataset[0]))\n",
    "        else:\n",
    "            print('Number of rows:', len(dataset))\n",
    "            print('Number of columns:', len(dataset[0]))\n",
    "\n",
    "def dataset(csv) -> list:\n",
    "    \"\"\"Opens a csv file, reads it, and turns the contents into a list.\"\"\"\n",
    "    csv_open = open(csv)\n",
    "    csv_dataset = list(reader(csv_open))\n",
    "    return csv_dataset\n"
   ]
  },
  {
   "cell_type": "code",
   "execution_count": 2,
   "metadata": {
    "collapsed": false
   },
   "outputs": [],
   "source": [
    "\n",
    "app_dataset = dataset('AppleStore.csv')\n",
    "google_dataset = dataset('googleplaystore.csv')"
   ]
  },
  {
   "cell_type": "code",
   "execution_count": 3,
   "metadata": {
    "collapsed": false
   },
   "outputs": [
    {
     "name": "stdout",
     "output_type": "stream",
     "text": [
      "['id', 'track_name', 'size_bytes', 'currency', 'price', 'rating_count_tot', 'rating_count_ver', 'user_rating', 'user_rating_ver', 'ver', 'cont_rating', 'prime_genre', 'sup_devices.num', 'ipadSc_urls.num', 'lang.num', 'vpp_lic']\n",
      "\n",
      "\n",
      "['284882215', 'Facebook', '389879808', 'USD', '0.0', '2974676', '212', '3.5', '3.5', '95.0', '4+', 'Social Networking', '37', '1', '29', '1']\n",
      "\n",
      "\n",
      "['389801252', 'Instagram', '113954816', 'USD', '0.0', '2161558', '1289', '4.5', '4.0', '10.23', '12+', 'Photo & Video', '37', '0', '29', '1']\n",
      "\n",
      "\n",
      "['529479190', 'Clash of Clans', '116476928', 'USD', '0.0', '2130805', '579', '4.5', '4.5', '9.24.12', '9+', 'Games', '38', '5', '18', '1']\n",
      "\n",
      "\n",
      "['420009108', 'Temple Run', '65921024', 'USD', '0.0', '1724546', '3842', '4.5', '4.0', '1.6.2', '9+', 'Games', '40', '5', '1', '1']\n",
      "\n",
      "\n",
      "Number of rows: 7197\n",
      "Number of columns: 16\n",
      "['App', 'Category', 'Rating', 'Reviews', 'Size', 'Installs', 'Type', 'Price', 'Content Rating', 'Genres', 'Last Updated', 'Current Ver', 'Android Ver']\n",
      "\n",
      "\n",
      "['Photo Editor & Candy Camera & Grid & ScrapBook', 'ART_AND_DESIGN', '4.1', '159', '19M', '10,000+', 'Free', '0', 'Everyone', 'Art & Design', 'January 7, 2018', '1.0.0', '4.0.3 and up']\n",
      "\n",
      "\n",
      "['Coloring book moana', 'ART_AND_DESIGN', '3.9', '967', '14M', '500,000+', 'Free', '0', 'Everyone', 'Art & Design;Pretend Play', 'January 15, 2018', '2.0.0', '4.0.3 and up']\n",
      "\n",
      "\n",
      "['U Launcher Lite – FREE Live Cool Themes, Hide Apps', 'ART_AND_DESIGN', '4.7', '87510', '8.7M', '5,000,000+', 'Free', '0', 'Everyone', 'Art & Design', 'August 1, 2018', '1.2.4', '4.0.3 and up']\n",
      "\n",
      "\n",
      "['Sketch - Draw & Paint', 'ART_AND_DESIGN', '4.5', '215644', '25M', '50,000,000+', 'Free', '0', 'Teen', 'Art & Design', 'June 8, 2018', 'Varies with device', '4.2 and up']\n",
      "\n",
      "\n",
      "Number of rows: 10841\n",
      "Number of columns: 13\n"
     ]
    }
   ],
   "source": [
    "explore_google = explore_data(app_dataset, 0, 5,  rows_and_columns=True, header=True)\n",
    "explore_google = explore_data(google_dataset, 0, 5, rows_and_columns=True, header=True)"
   ]
  },
  {
   "cell_type": "code",
   "execution_count": 4,
   "metadata": {
    "collapsed": false
   },
   "outputs": [
    {
     "name": "stdout",
     "output_type": "stream",
     "text": [
      "['id', 'track_name', 'size_bytes', 'currency', 'price', 'rating_count_tot', 'rating_count_ver', 'user_rating', 'user_rating_ver', 'ver', 'cont_rating', 'prime_genre', 'sup_devices.num', 'ipadSc_urls.num', 'lang.num', 'vpp_lic']\n",
      "\n",
      "\n",
      "None\n",
      "['App', 'Category', 'Rating', 'Reviews', 'Size', 'Installs', 'Type', 'Price', 'Content Rating', 'Genres', 'Last Updated', 'Current Ver', 'Android Ver']\n",
      "\n",
      "\n"
     ]
    }
   ],
   "source": [
    "print(explore_data(app_dataset, 0, 1))\n",
    "explore_data(google_dataset,0, 1)"
   ]
  },
  {
   "cell_type": "markdown",
   "metadata": {},
   "source": [
    "#### Helpful columns:\n",
    "Several columns can be of help:\n",
    "\n",
    "|Dataset|Column|Explanation|\n",
    "|---|---|---|\n",
    "|The App Store|price|We are only interested in free apps.|\n",
    "|The App Store|rating_count_tot|We will want to see if there is reasonable amount of ratings.|\n",
    "|The App Store|user_rating|We are only interested in \"Successful apps\".|\n",
    "|The App Store|prime_genre|We should know what type an app is.|\n",
    "|Google Play|Category|Same as prime_genre.|\n",
    "|Google Play|Rating|Same as user_rating.|\n",
    "|Google Play|Reviews|Same as rating_count_tot.|\n",
    "|Google Play|Installs|We are interested in apps with a large number of installs.|\n",
    "|Google Play|Type|Same as prime_genre.|\n",
    "|Google Play|Price|Same as price.|\n",
    "|Google Play|Content Rating|Same as user_rating.|\n",
    "|Google Play|Genres|Same as prime_genre.|\n",
    "|Google Play|Current Ver| Help with determining most recent trends|\n",
    "\n",
    "\n",
    "To get a first hand look at the data, you can find them in these two links:\n",
    "\n",
    "https://www.kaggle.com/ramamet4/app-store-apple-data-set-10k-apps\n",
    "\n",
    "https://www.kaggle.com/lava18/google-play-store-apps"
   ]
  },
  {
   "cell_type": "code",
   "execution_count": 5,
   "metadata": {
    "collapsed": false
   },
   "outputs": [
    {
     "name": "stdout",
     "output_type": "stream",
     "text": [
      "['App', 'Category', 'Rating', 'Reviews', 'Size', 'Installs', 'Type', 'Price', 'Content Rating', 'Genres', 'Last Updated', 'Current Ver', 'Android Ver']\n",
      "['osmino Wi-Fi: free WiFi', 'TOOLS', '4.2', '134203', '4.1M', '10,000,000+', 'Free', '0', 'Everyone', 'Tools', 'August 7, 2018', '6.06.14', '4.4 and up']\n"
     ]
    }
   ],
   "source": [
    "# Remove error row and comment out delete so we don't accidently run it again.\n",
    "del google_dataset[10473]\n",
    "print(google_dataset[0])\n",
    "print(google_dataset[10473])"
   ]
  },
  {
   "cell_type": "code",
   "execution_count": 6,
   "metadata": {
    "collapsed": false,
    "scrolled": true
   },
   "outputs": [
    {
     "name": "stdout",
     "output_type": "stream",
     "text": [
      "Total Number of entries: 10840\n",
      "Number of unique entries: 9659\n",
      "Number of entries where more than one duplicate: 798\n"
     ]
    }
   ],
   "source": [
    "all_apps = []\n",
    "for row in google_dataset[1:]:\n",
    "    name = row[0]\n",
    "    all_apps.append(name)\n",
    "print('Total Number of entries: ' + str(len(all_apps)))\n",
    "\n",
    "app_count = {}\n",
    "for app in all_apps:\n",
    "    if app in app_count:\n",
    "        app_count[app] += 1\n",
    "    else:\n",
    "        app_count[app] = 1\n",
    "\n",
    "print('Number of unique entries: ' + str(len(app_count)))\n",
    "duplicate_apps = []\n",
    "for app in app_count:\n",
    "    if app_count[app] > 1:\n",
    "        duplicate_apps.append(app)\n",
    "print('Number of entries where more than one duplicate: ' + str(len(duplicate_apps)))\n"
   ]
  },
  {
   "cell_type": "markdown",
   "metadata": {},
   "source": [
    "#### Deleting Replicated Entries\n",
    "To ensure that we are not counting an application twice, we will remove any duplicates. To determine which duplicate to remove, we will keep the entry with the highest number of downloads since it is more likely to be the accurate count. We will have two main steps:\n",
    "    1. Iterate through the `google_dataset` and create a dictionary with the name of each app and it's highest entry\n",
    "    2. We will iterate through the `google_dataset` again, but check for if the entries match our dictionary (allowing only rows that have our dictionary values) and create a list of lists (a new dataset)"
   ]
  },
  {
   "cell_type": "code",
   "execution_count": 7,
   "metadata": {
    "collapsed": false
   },
   "outputs": [
    {
     "name": "stdout",
     "output_type": "stream",
     "text": [
      "9659\n"
     ]
    }
   ],
   "source": [
    "review_max = {}\n",
    "\n",
    "for row in google_dataset[1:]:\n",
    "    name = row[0]\n",
    "    n_reviews = float(row[3])\n",
    "    if name in review_max and review_max[name] < n_reviews:\n",
    "        review_max[name] = n_reviews\n",
    "    elif name not in review_max:\n",
    "        review_max[name] = n_reviews\n",
    "print(len(review_max))"
   ]
  },
  {
   "cell_type": "code",
   "execution_count": 8,
   "metadata": {
    "collapsed": false
   },
   "outputs": [
    {
     "name": "stdout",
     "output_type": "stream",
     "text": [
      "['U Launcher Lite – FREE Live Cool Themes, Hide Apps', 'ART_AND_DESIGN', '4.7', '87510', '8.7M', '5,000,000+', 'Free', '0', 'Everyone', 'Art & Design', 'August 1, 2018', '1.2.4', '4.0.3 and up']\n"
     ]
    }
   ],
   "source": [
    "android_no_duplicates = []\n",
    "already_added = []\n",
    "\n",
    "for row in google_dataset[1:]:\n",
    "    name = row[0]\n",
    "    n_reviews = float(row[3])\n",
    "    if n_reviews == review_max[name] and name not in already_added:\n",
    "        android_no_duplicates.append(row)\n",
    "        already_added.append(name)\n",
    "print(android_no_duplicates[1])"
   ]
  },
  {
   "cell_type": "code",
   "execution_count": 9,
   "metadata": {
    "collapsed": true
   },
   "outputs": [],
   "source": [
    "def english_string(word: str) -> bool:\n",
    "    \"\"\"Returns a False if there are more than 3 symbols in a name\"\"\"\n",
    "    non_english_symbols = 0\n",
    "    for letter in word:\n",
    "        if non_english_symbols > 3:\n",
    "            return False\n",
    "        elif ord(letter) > 127:\n",
    "            non_english_symbols += 1\n",
    "    return True"
   ]
  },
  {
   "cell_type": "code",
   "execution_count": 10,
   "metadata": {
    "collapsed": false
   },
   "outputs": [
    {
     "name": "stdout",
     "output_type": "stream",
     "text": [
      "9616\n"
     ]
    }
   ],
   "source": [
    "android_no_forgein_names = []\n",
    "\n",
    "for row in android_no_duplicates:\n",
    "    name = row[0]\n",
    "    if english_string(name):\n",
    "        android_no_forgein_names.append(row)\n",
    "print(len(android_no_forgein_names))"
   ]
  },
  {
   "cell_type": "code",
   "execution_count": 11,
   "metadata": {
    "collapsed": false
   },
   "outputs": [
    {
     "name": "stdout",
     "output_type": "stream",
     "text": [
      "There are 8865 free apps.\n",
      "There are 751 paid apps.\n"
     ]
    }
   ],
   "source": [
    "android_free_apps = []\n",
    "android_not_free_apps = []\n",
    "for row in android_no_forgein_names:\n",
    "    price = row[6]\n",
    "    if price == 'Free':\n",
    "        android_free_apps.append(row)\n",
    "    else:\n",
    "        android_not_free_apps.append(row)\n",
    "print('There are ' + str(len(android_free_apps)) + ' free apps.')\n",
    "print('There are ' + str(len(android_not_free_apps)) + ' paid apps.')"
   ]
  },
  {
   "cell_type": "code",
   "execution_count": 12,
   "metadata": {
    "collapsed": false
   },
   "outputs": [
    {
     "name": "stdout",
     "output_type": "stream",
     "text": [
      "There are 4056 free apps.\n",
      "There are 3141 paid apps.\n"
     ]
    }
   ],
   "source": [
    "apple_free_apps = []\n",
    "apple_not_free_apps = []\n",
    "for row in app_dataset[1:]:\n",
    "    price = row[4]\n",
    "    if price == '0.0':\n",
    "        apple_free_apps.append(row)\n",
    "    else:\n",
    "        apple_not_free_apps.append(row)\n",
    "print('There are ' + str(len(apple_free_apps)) + ' free apps.')\n",
    "print('There are ' + str(len(apple_not_free_apps)) + ' paid apps.')"
   ]
  },
  {
   "cell_type": "code",
   "execution_count": 13,
   "metadata": {
    "collapsed": false
   },
   "outputs": [
    {
     "name": "stdout",
     "output_type": "stream",
     "text": [
      "[['App', 'Category', 'Rating', 'Reviews', 'Size', 'Installs', 'Type', 'Price', 'Content Rating', 'Genres', 'Last Updated', 'Current Ver', 'Android Ver'], ['Photo Editor & Candy Camera & Grid & ScrapBook', 'ART_AND_DESIGN', '4.1', '159', '19M', '10,000+', 'Free', '0', 'Everyone', 'Art & Design', 'January 7, 2018', '1.0.0', '4.0.3 and up']]\n"
     ]
    },
    {
     "data": {
      "text/plain": [
       "[['id',\n",
       "  'track_name',\n",
       "  'size_bytes',\n",
       "  'currency',\n",
       "  'price',\n",
       "  'rating_count_tot',\n",
       "  'rating_count_ver',\n",
       "  'user_rating',\n",
       "  'user_rating_ver',\n",
       "  'ver',\n",
       "  'cont_rating',\n",
       "  'prime_genre',\n",
       "  'sup_devices.num',\n",
       "  'ipadSc_urls.num',\n",
       "  'lang.num',\n",
       "  'vpp_lic'],\n",
       " ['284882215',\n",
       "  'Facebook',\n",
       "  '389879808',\n",
       "  'USD',\n",
       "  '0.0',\n",
       "  '2974676',\n",
       "  '212',\n",
       "  '3.5',\n",
       "  '3.5',\n",
       "  '95.0',\n",
       "  '4+',\n",
       "  'Social Networking',\n",
       "  '37',\n",
       "  '1',\n",
       "  '29',\n",
       "  '1']]"
      ]
     },
     "execution_count": 13,
     "metadata": {},
     "output_type": "execute_result"
    }
   ],
   "source": [
    "print(google_dataset[0:2])\n",
    "app_dataset[0:2]"
   ]
  },
  {
   "cell_type": "markdown",
   "metadata": {},
   "source": [
    "### App strategy\n",
    "As mentioned in the begining of the notebook, our goal with the analysis is to build popular apps so we can take advantage of in app advertsing. Our validation process will be to:\n",
    "- Build a minimal Anrdoid version of an app\n",
    "- If it has a good response, then we will develop it further\n",
    "- If it becomes profitable, then we will build an IOS Version\n",
    "It is important to analyze both the Android and Apple app stores before deciding on an app because we want to release a succesfful app for all potential customers."
   ]
  },
  {
   "cell_type": "code",
   "execution_count": 14,
   "metadata": {
    "collapsed": true
   },
   "outputs": [],
   "source": [
    "def freq_table(dataset, index: int) -> dict:\n",
    "    \"\"\"Returns a frequency table for any column of a dataset.\"\"\"\n",
    "    table = {}\n",
    "    dataset_size = len(dataset)\n",
    "    for row in dataset:\n",
    "        genre = row[index]\n",
    "        if genre in table:\n",
    "            table[genre] += 1\n",
    "        else:\n",
    "            table[genre] = 1\n",
    "    for entry in table:\n",
    "        whole_num = table[entry]\n",
    "        table[entry] = round(whole_num/dataset_size * 100, 2)   \n",
    "    return table\n",
    "\n",
    "def display_table(dataset, index):\n",
    "    \"\"\"Creates a frequency table and prints the sorted results.\"\"\"\n",
    "    table = freq_table(dataset, index)\n",
    "    table_display = []\n",
    "    for key in table:\n",
    "        key_val_as_tuple = (table[key], key)\n",
    "        table_display.append(key_val_as_tuple)\n",
    "\n",
    "    table_sorted = sorted(table_display, reverse = True)\n",
    "    for entry in table_sorted:\n",
    "        print(entry[1], ':', entry[0])"
   ]
  },
  {
   "cell_type": "code",
   "execution_count": 15,
   "metadata": {
    "collapsed": false
   },
   "outputs": [
    {
     "name": "stdout",
     "output_type": "stream",
     "text": [
      "FAMILY : 18.89\n",
      "GAME : 9.72\n",
      "TOOLS : 8.46\n",
      "BUSINESS : 4.59\n",
      "LIFESTYLE : 3.91\n",
      "PRODUCTIVITY : 3.89\n",
      "FINANCE : 3.7\n",
      "MEDICAL : 3.53\n",
      "SPORTS : 3.4\n",
      "PERSONALIZATION : 3.32\n",
      "COMMUNICATION : 3.24\n",
      "HEALTH_AND_FITNESS : 3.08\n",
      "PHOTOGRAPHY : 2.94\n",
      "NEWS_AND_MAGAZINES : 2.8\n",
      "SOCIAL : 2.66\n",
      "TRAVEL_AND_LOCAL : 2.34\n",
      "SHOPPING : 2.24\n",
      "BOOKS_AND_REFERENCE : 2.15\n",
      "DATING : 1.86\n",
      "VIDEO_PLAYERS : 1.79\n",
      "MAPS_AND_NAVIGATION : 1.4\n",
      "FOOD_AND_DRINK : 1.24\n",
      "EDUCATION : 1.16\n",
      "ENTERTAINMENT : 0.96\n",
      "LIBRARIES_AND_DEMO : 0.94\n",
      "AUTO_AND_VEHICLES : 0.92\n",
      "HOUSE_AND_HOME : 0.82\n",
      "WEATHER : 0.8\n",
      "EVENTS : 0.71\n",
      "PARENTING : 0.65\n",
      "ART_AND_DESIGN : 0.64\n",
      "COMICS : 0.62\n",
      "BEAUTY : 0.6\n"
     ]
    }
   ],
   "source": [
    "display_table(android_free_apps, 1)"
   ]
  },
  {
   "cell_type": "code",
   "execution_count": 16,
   "metadata": {
    "collapsed": false
   },
   "outputs": [
    {
     "name": "stdout",
     "output_type": "stream",
     "text": [
      "Tools : 8.45\n",
      "Entertainment : 6.07\n",
      "Education : 5.35\n",
      "Business : 4.59\n",
      "Lifestyle : 3.9\n",
      "Productivity : 3.89\n",
      "Finance : 3.7\n",
      "Medical : 3.53\n",
      "Sports : 3.46\n",
      "Personalization : 3.32\n",
      "Communication : 3.24\n",
      "Action : 3.1\n",
      "Health & Fitness : 3.08\n",
      "Photography : 2.94\n",
      "News & Magazines : 2.8\n",
      "Social : 2.66\n",
      "Travel & Local : 2.32\n",
      "Shopping : 2.24\n",
      "Books & Reference : 2.15\n",
      "Simulation : 2.04\n",
      "Dating : 1.86\n",
      "Arcade : 1.85\n",
      "Video Players & Editors : 1.77\n",
      "Casual : 1.76\n",
      "Maps & Navigation : 1.4\n",
      "Food & Drink : 1.24\n",
      "Puzzle : 1.13\n",
      "Racing : 0.99\n",
      "Role Playing : 0.94\n",
      "Libraries & Demo : 0.94\n",
      "Auto & Vehicles : 0.92\n",
      "Strategy : 0.9\n",
      "House & Home : 0.82\n",
      "Weather : 0.8\n",
      "Events : 0.71\n",
      "Adventure : 0.68\n",
      "Comics : 0.61\n",
      "Beauty : 0.6\n",
      "Art & Design : 0.6\n",
      "Parenting : 0.5\n",
      "Card : 0.45\n",
      "Casino : 0.43\n",
      "Trivia : 0.42\n",
      "Educational;Education : 0.39\n",
      "Board : 0.38\n",
      "Educational : 0.37\n",
      "Education;Education : 0.34\n",
      "Word : 0.26\n",
      "Casual;Pretend Play : 0.24\n",
      "Music : 0.2\n",
      "Racing;Action & Adventure : 0.17\n",
      "Puzzle;Brain Games : 0.17\n",
      "Entertainment;Music & Video : 0.17\n",
      "Casual;Brain Games : 0.14\n",
      "Casual;Action & Adventure : 0.14\n",
      "Arcade;Action & Adventure : 0.12\n",
      "Action;Action & Adventure : 0.1\n",
      "Educational;Pretend Play : 0.09\n",
      "Simulation;Action & Adventure : 0.08\n",
      "Parenting;Education : 0.08\n",
      "Entertainment;Brain Games : 0.08\n",
      "Board;Brain Games : 0.08\n",
      "Parenting;Music & Video : 0.07\n",
      "Educational;Brain Games : 0.07\n",
      "Casual;Creativity : 0.07\n",
      "Art & Design;Creativity : 0.07\n",
      "Education;Pretend Play : 0.06\n",
      "Role Playing;Pretend Play : 0.05\n",
      "Education;Creativity : 0.05\n",
      "Role Playing;Action & Adventure : 0.03\n",
      "Puzzle;Action & Adventure : 0.03\n",
      "Entertainment;Creativity : 0.03\n",
      "Entertainment;Action & Adventure : 0.03\n",
      "Educational;Creativity : 0.03\n",
      "Educational;Action & Adventure : 0.03\n",
      "Education;Music & Video : 0.03\n",
      "Education;Brain Games : 0.03\n",
      "Education;Action & Adventure : 0.03\n",
      "Adventure;Action & Adventure : 0.03\n",
      "Video Players & Editors;Music & Video : 0.02\n",
      "Sports;Action & Adventure : 0.02\n",
      "Simulation;Pretend Play : 0.02\n",
      "Puzzle;Creativity : 0.02\n",
      "Music;Music & Video : 0.02\n",
      "Entertainment;Pretend Play : 0.02\n",
      "Casual;Education : 0.02\n",
      "Board;Action & Adventure : 0.02\n",
      "Video Players & Editors;Creativity : 0.01\n",
      "Trivia;Education : 0.01\n",
      "Travel & Local;Action & Adventure : 0.01\n",
      "Tools;Education : 0.01\n",
      "Strategy;Education : 0.01\n",
      "Strategy;Creativity : 0.01\n",
      "Strategy;Action & Adventure : 0.01\n",
      "Simulation;Education : 0.01\n",
      "Role Playing;Brain Games : 0.01\n",
      "Racing;Pretend Play : 0.01\n",
      "Puzzle;Education : 0.01\n",
      "Parenting;Brain Games : 0.01\n",
      "Music & Audio;Music & Video : 0.01\n",
      "Lifestyle;Pretend Play : 0.01\n",
      "Lifestyle;Education : 0.01\n",
      "Health & Fitness;Education : 0.01\n",
      "Health & Fitness;Action & Adventure : 0.01\n",
      "Entertainment;Education : 0.01\n",
      "Communication;Creativity : 0.01\n",
      "Comics;Creativity : 0.01\n",
      "Casual;Music & Video : 0.01\n",
      "Card;Action & Adventure : 0.01\n",
      "Books & Reference;Education : 0.01\n",
      "Art & Design;Pretend Play : 0.01\n",
      "Art & Design;Action & Adventure : 0.01\n",
      "Arcade;Pretend Play : 0.01\n",
      "Adventure;Education : 0.01\n"
     ]
    }
   ],
   "source": [
    "display_table(android_free_apps, 9)"
   ]
  },
  {
   "cell_type": "markdown",
   "metadata": {},
   "source": [
    "### Observations:\n",
    "- The most common genres are `Family`, `Games`, and `Tools`\n",
    "- The top three results have the largest gap between percentages, but the gap begins to fall as the list descends"
   ]
  },
  {
   "cell_type": "code",
   "execution_count": 17,
   "metadata": {
    "collapsed": false
   },
   "outputs": [
    {
     "name": "stdout",
     "output_type": "stream",
     "text": [
      "Games : 55.65\n",
      "Entertainment : 8.23\n",
      "Photo & Video : 4.12\n",
      "Social Networking : 3.53\n",
      "Education : 3.25\n",
      "Shopping : 2.98\n",
      "Utilities : 2.69\n",
      "Lifestyle : 2.32\n",
      "Finance : 2.07\n",
      "Sports : 1.95\n",
      "Health & Fitness : 1.87\n",
      "Music : 1.65\n",
      "Book : 1.63\n",
      "Productivity : 1.53\n",
      "News : 1.43\n",
      "Travel : 1.38\n",
      "Food & Drink : 1.06\n",
      "Weather : 0.76\n",
      "Reference : 0.49\n",
      "Navigation : 0.49\n",
      "Business : 0.49\n",
      "Catalogs : 0.22\n",
      "Medical : 0.2\n"
     ]
    }
   ],
   "source": [
    "display_table(apple_free_apps, 11)"
   ]
  },
  {
   "cell_type": "markdown",
   "metadata": {},
   "source": [
    "### Observations\n",
    "- From the Apple App Store, the most popular genre is `Games`, followed by `Entertainment` at a much lower percetange.\n",
    "- Although there is a large gap between `Games` and `Entertainment` and between `Entertainment` and `Photo & Video`, the difference between categories afterwards are lower.\n",
    "- The most popular apps have to do with being enterained and socialisation. \n",
    "- Based on the results we can suggest either a Game, Entertainment, or Social app.\n",
    "- I would argue that Photo & Video are highly connected to Social Networking.\n",
    "- Between Apple and Google stores, we can see that Game is popular in both, however the Genres differ so much it is difficult to tell what the apps have in common"
   ]
  },
  {
   "cell_type": "code",
   "execution_count": 18,
   "metadata": {
    "collapsed": false
   },
   "outputs": [
    {
     "data": {
      "text/plain": [
       "[(0.002175095160413268, 'Medical'),\n",
       " (0.000561938061938062, 'Catalogs'),\n",
       " (0.0001595829565402415, 'Education'),\n",
       " (0.00015704010804359434, 'Business'),\n",
       " (0.00011767013139831339, 'Book'),\n",
       " (0.00011137955426850293, 'Lifestyle'),\n",
       " (9.239615598794866e-05, 'Entertainment'),\n",
       " (7.395212480301443e-05, 'Finance'),\n",
       " (7.137707329115756e-05, 'Utilities'),\n",
       " (6.292187489829439e-05, 'News'),\n",
       " (5.334278514584182e-05, 'Shopping'),\n",
       " (5.2841026962666635e-05, 'Games'),\n",
       " (5.248272937280599e-05, 'Productivity'),\n",
       " (5.0119495428574446e-05, 'Health & Fitness'),\n",
       " (4.96796292767715e-05, 'Sports'),\n",
       " (4.9556241147584246e-05, 'Food & Drink'),\n",
       " (4.946572599344403e-05, 'Travel'),\n",
       " (3.850292911033207e-05, 'Navigation'),\n",
       " (3.6697392858994994e-05, 'Photo & Video'),\n",
       " (2.117704763264517e-05, 'Weather'),\n",
       " (1.8840127944231113e-05, 'Social Networking'),\n",
       " (1.7704746140365342e-05, 'Music'),\n",
       " (1.4826258489886268e-05, 'Reference')]"
      ]
     },
     "execution_count": 18,
     "metadata": {},
     "output_type": "execute_result"
    }
   ],
   "source": [
    "apple_genre_freq = freq_table(apple_free_apps, 11)\n",
    "all_genres = []\n",
    "for genre in apple_genre_freq:\n",
    "    total = 0\n",
    "    len_genre = 0\n",
    "    for row in apple_free_apps:\n",
    "        genre_app = row[11]\n",
    "        if genre_app == genre:\n",
    "            user_rating_tot = float(row[5])\n",
    "            total += user_rating_tot\n",
    "            len_genre += 1\n",
    "    avg_user_rating = len_genre/total\n",
    "    all_genres.append((avg_user_rating, genre))\n",
    "sorted(all_genres, reverse=True)"
   ]
  },
  {
   "cell_type": "markdown",
   "metadata": {},
   "source": [
    "### Observations:\n",
    "From the results we can see that `Medical` is the highest rating count, which is a good indicator that it is also high in downloads."
   ]
  },
  {
   "cell_type": "code",
   "execution_count": 30,
   "metadata": {
    "collapsed": false
   },
   "outputs": [
    {
     "data": {
      "text/plain": [
       "[(8.295270497904928e-06, 'MEDICAL'),\n",
       " (3.944116255017792e-06, 'EVENTS'),\n",
       " (1.9487407641637604e-06, 'BEAUTY'),\n",
       " (1.8429659550170142e-06, 'PARENTING'),\n",
       " (1.5661615512622601e-06, 'LIBRARIES_AND_DEMO'),\n",
       " (1.5448362050676618e-06, 'AUTO_AND_VEHICLES'),\n",
       " (1.2230063051534151e-06, 'COMICS'),\n",
       " (1.1709206580826734e-06, 'DATING'),\n",
       " (7.510097918199829e-07, 'HOUSE_AND_HOME'),\n",
       " (7.206207553734822e-07, 'FINANCE'),\n",
       " (6.974952477307038e-07, 'LIFESTYLE'),\n",
       " (5.840131717785492e-07, 'BUSINESS'),\n",
       " (5.454064072014826e-07, 'EDUCATION'),\n",
       " (5.195081178125964e-07, 'FOOD_AND_DRINK'),\n",
       " (5.03439729873672e-07, 'ART_AND_DESIGN'),\n",
       " (2.7482794690842314e-07, 'SPORTS'),\n",
       " (2.704275441228814e-07, 'FAMILY'),\n",
       " (2.4649109000308073e-07, 'MAPS_AND_NAVIGATION'),\n",
       " (2.3873060337676903e-07, 'HEALTH_AND_FITNESS'),\n",
       " (1.9706428614489298e-07, 'WEATHER'),\n",
       " (1.9225287760183665e-07, 'PERSONALIZATION'),\n",
       " (1.4210848871239236e-07, 'SHOPPING'),\n",
       " (1.1465313530763951e-07, 'BOOKS_AND_REFERENCE'),\n",
       " (1.0472105044199336e-07, 'NEWS_AND_MAGAZINES'),\n",
       " (9.258066598544957e-08, 'TOOLS'),\n",
       " (8.590544337315304e-08, 'ENTERTAINMENT'),\n",
       " (7.150990009691788e-08, 'TRAVEL_AND_LOCAL'),\n",
       " (6.415184751236829e-08, 'GAME'),\n",
       " (5.956872950519084e-08, 'PRODUCTIVITY'),\n",
       " (5.6053464774026365e-08, 'PHOTOGRAPHY'),\n",
       " (4.30039975885676e-08, 'SOCIAL'),\n",
       " (4.044019564997176e-08, 'VIDEO_PLAYERS'),\n",
       " (2.600366395919867e-08, 'COMMUNICATION')]"
      ]
     },
     "execution_count": 30,
     "metadata": {},
     "output_type": "execute_result"
    }
   ],
   "source": [
    "category_freq = freq_table(android_free_apps, 1)\n",
    "all_categories = []\n",
    "for category in category_freq:\n",
    "    total = 0\n",
    "    len_category = 0\n",
    "    for row in android_free_apps:\n",
    "        category_app = row[1]\n",
    "        if category_app == category:\n",
    "            number_of_installs = row[5]\n",
    "            number_of_installs = float(number_of_installs.replace(',', '').replace('+', ''))\n",
    "            total += number_of_installs\n",
    "            len_category += 1\n",
    "    avg_downloads = len_category/total\n",
    "    all_categories.append((avg_downloads, category))\n",
    "sorted(all_categories, reverse=True)"
   ]
  },
  {
   "cell_type": "markdown",
   "metadata": {},
   "source": [
    "### Observations:\n",
    "Again we see that `Medical` has the hightest downloads."
   ]
  }
 ],
 "metadata": {
  "kernelspec": {
   "display_name": "Python 3",
   "language": "python",
   "name": "python3"
  },
  "language_info": {
   "codemirror_mode": {
    "name": "ipython",
    "version": 3
   },
   "file_extension": ".py",
   "mimetype": "text/x-python",
   "name": "python",
   "nbconvert_exporter": "python",
   "pygments_lexer": "ipython3",
   "version": "3.4.3"
  }
 },
 "nbformat": 4,
 "nbformat_minor": 2
}
